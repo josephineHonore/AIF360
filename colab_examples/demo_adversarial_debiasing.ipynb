{
  "nbformat": 4,
  "nbformat_minor": 0,
  "metadata": {
    "kernelspec": {
      "name": "python3",
      "display_name": "Python 3"
    },
    "colab": {
      "name": "demo_adversarial_debiasing.ipynb",
      "provenance": [],
      "include_colab_link": true
    }
  },
  "cells": [
    {
      "cell_type": "markdown",
      "metadata": {
        "id": "view-in-github",
        "colab_type": "text"
      },
      "source": [
        "<a href=\"https://colab.research.google.com/github/josephineHonore/AIF360/blob/master/colab_examples/demo_adversarial_debiasing.ipynb\" target=\"_parent\"><img src=\"https://colab.research.google.com/assets/colab-badge.svg\" alt=\"Open In Colab\"/></a>"
      ]
    },
    {
      "cell_type": "markdown",
      "metadata": {
        "id": "r_NepKWve3LD",
        "colab_type": "text"
      },
      "source": [
        "# Colab Setup"
      ]
    },
    {
      "cell_type": "markdown",
      "metadata": {
        "id": "T3IYz9Vcd46z",
        "colab_type": "text"
      },
      "source": [
        "This section configures your environment to be able to run this notebook on Google Colab. Before you run this notebook, make sure you are running in a python 3 environment. You can change your runtime environment by choosing \n",
        "> Runtime > Change runtime type\n",
        "\n",
        "in the menu.\n",
        "\n"
      ]
    },
    {
      "cell_type": "code",
      "metadata": {
        "id": "t5R8DDwIeDyz",
        "colab_type": "code",
        "outputId": "73468501-5566-47a8-9410-f7d72fc5f878",
        "colab": {
          "base_uri": "https://localhost:8080/",
          "height": 34
        }
      },
      "source": [
        "!python --version"
      ],
      "execution_count": 5,
      "outputs": [
        {
          "output_type": "stream",
          "text": [
            "Python 3.6.8\n"
          ],
          "name": "stdout"
        }
      ]
    },
    {
      "cell_type": "code",
      "metadata": {
        "id": "kyUy_rRXfNLz",
        "colab_type": "code",
        "colab": {}
      },
      "source": [
        "# This notebook runs in Tensorflow 1.x. Soon will default be 2.x in Colab.\n",
        "%tensorflow_version 1.x"
      ],
      "execution_count": 0,
      "outputs": []
    },
    {
      "cell_type": "code",
      "metadata": {
        "id": "_QCw5PcVdE7R",
        "colab_type": "code",
        "colab": {}
      },
      "source": [
        "!pip install -q -U \\\n",
        "  aif360==0.2.2 \\\n",
        "  tqdm==4.38.0 \\\n",
        "  tensorflow==1.15 \\\n",
        "  numpy==1.17.4 \\\n",
        "  matplotlib==3.1.1 \\\n",
        "  pandas==0.25.3 \\\n",
        "  scipy==1.3.2 \\\n",
        "  scikit-learn==0.21.3 \\\n",
        "  cvxpy==1.0.25 \\\n",
        "  scs==2.1.0 \\\n",
        "  numba==0.42.0 \\\n",
        "  networkx==2.4  \\\n",
        "  imgaug==0.2.6 \\\n",
        "  BlackBoxAuditing==0.1.54 \\\n",
        "  lime==0.1.1.36 \\\n",
        "  adversarial-robustness-toolbox==1.0.1"
      ],
      "execution_count": 0,
      "outputs": []
    },
    {
      "cell_type": "markdown",
      "metadata": {
        "id": "1R6WMg5zJ0Yt",
        "colab_type": "text"
      },
      "source": [
        "## Notes\n",
        "- The above pip command is created using AIF360's [requirements.txt](https://github.com/josephineHonore/AIF360/blob/master/requirements.txt). At the moment, the job to update these libraries is manual.\n",
        "- The original notebook uses Markdown to display formated text. Currently this is [unsupported](https://github.com/googlecolab/colabtools/issues/322) in Colab.\n",
        "- The tensorflow dependency is not needed for all other notebooks.\n",
        "- We have changed TensorFlow's logging level to `ERROR`, just after the import of the library, to limit the amount of logging shown to the user."
      ]
    },
    {
      "cell_type": "markdown",
      "metadata": {
        "id": "yQZm1kvfevkw",
        "colab_type": "text"
      },
      "source": [
        "# Start of Original Notebook"
      ]
    },
    {
      "cell_type": "markdown",
      "metadata": {
        "id": "CI9JjWykdBgu",
        "colab_type": "text"
      },
      "source": [
        "#### This notebook demonstrates the use of adversarial debiasing algorithm to learn a fair classifier.\n",
        "Adversarial debiasing [1] is an in-processing technique that learns a classifier to maximize prediction accuracy and simultaneously reduce an adversary's ability to determine the protected attribute from the predictions. This approach leads to a fair classifier as the predictions cannot carry any group discrimination information that the adversary can exploit. We will see how to use this algorithm for learning models with and without fairness constraints and apply them on the Adult dataset."
      ]
    },
    {
      "cell_type": "code",
      "metadata": {
        "id": "Y8X6I3szdBgy",
        "colab_type": "code",
        "colab": {}
      },
      "source": [
        "%matplotlib inline\n",
        "# Load all necessary packages\n",
        "import sys\n",
        "sys.path.append(\"../\")\n",
        "from aif360.datasets import BinaryLabelDataset\n",
        "from aif360.datasets import AdultDataset, GermanDataset, CompasDataset\n",
        "from aif360.metrics import BinaryLabelDatasetMetric\n",
        "from aif360.metrics import ClassificationMetric\n",
        "from aif360.metrics.utils import compute_boolean_conditioning_vector\n",
        "\n",
        "from aif360.algorithms.preprocessing.optim_preproc_helpers.data_preproc_functions import load_preproc_data_adult, load_preproc_data_compas, load_preproc_data_german\n",
        "\n",
        "from aif360.algorithms.inprocessing.adversarial_debiasing import AdversarialDebiasing\n",
        "\n",
        "from sklearn.linear_model import LogisticRegression\n",
        "from sklearn.preprocessing import StandardScaler, MaxAbsScaler\n",
        "from sklearn.metrics import accuracy_score\n",
        "\n",
        "from IPython.display import Markdown, display\n",
        "import matplotlib.pyplot as plt\n",
        "\n",
        "import tensorflow as tf\n",
        "tf.compat.v1.logging.set_verbosity(tf.logging.ERROR)"
      ],
      "execution_count": 0,
      "outputs": []
    },
    {
      "cell_type": "markdown",
      "metadata": {
        "id": "ZcapCQdodBg8",
        "colab_type": "text"
      },
      "source": [
        "#### Load dataset and set options"
      ]
    },
    {
      "cell_type": "code",
      "metadata": {
        "id": "K8GyuuH-dBg_",
        "colab_type": "code",
        "outputId": "9cfdb140-1335-46c0-80da-6587fee5a06c",
        "colab": {
          "base_uri": "https://localhost:8080/",
          "height": 71
        }
      },
      "source": [
        "# Get the dataset and split into train and test\n",
        "dataset_orig = load_preproc_data_adult()\n",
        "\n",
        "privileged_groups = [{'sex': 1}]\n",
        "unprivileged_groups = [{'sex': 0}]\n",
        "\n",
        "dataset_orig_train, dataset_orig_test = dataset_orig.split([0.7], shuffle=True)"
      ],
      "execution_count": 4,
      "outputs": [
        {
          "output_type": "stream",
          "text": [
            "/usr/local/lib/python3.6/dist-packages/aif360/datasets/standard_dataset.py:142: FutureWarning: outer method for ufunc <ufunc 'equal'> is not implemented on pandas objects. Returning an ndarray, but in the future this will raise a 'NotImplementedError'. Consider explicitly converting the Series to an array with '.array' first.\n",
            "  df[label_name]))\n"
          ],
          "name": "stderr"
        }
      ]
    },
    {
      "cell_type": "code",
      "metadata": {
        "id": "aePh7ARSdBhI",
        "colab_type": "code",
        "outputId": "c76ce5fb-0f81-4dec-ee0b-84fd34816411",
        "colab": {
          "base_uri": "https://localhost:8080/",
          "height": 207
        }
      },
      "source": [
        "# print out some labels, names, etc.\n",
        "display(Markdown(\"#### Training Dataset shape\"))\n",
        "print(dataset_orig_train.features.shape)\n",
        "display(Markdown(\"#### Favorable and unfavorable labels\"))\n",
        "print(dataset_orig_train.favorable_label, dataset_orig_train.unfavorable_label)\n",
        "display(Markdown(\"#### Protected attribute names\"))\n",
        "print(dataset_orig_train.protected_attribute_names)\n",
        "display(Markdown(\"#### Privileged and unprivileged protected attribute values\"))\n",
        "print(dataset_orig_train.privileged_protected_attributes, \n",
        "      dataset_orig_train.unprivileged_protected_attributes)\n",
        "display(Markdown(\"#### Dataset feature names\"))\n",
        "print(dataset_orig_train.feature_names)"
      ],
      "execution_count": 5,
      "outputs": [
        {
          "output_type": "display_data",
          "data": {
            "text/markdown": "#### Training Dataset shape",
            "text/plain": [
              "<IPython.core.display.Markdown object>"
            ]
          },
          "metadata": {
            "tags": []
          }
        },
        {
          "output_type": "stream",
          "text": [
            "(34189, 18)\n"
          ],
          "name": "stdout"
        },
        {
          "output_type": "display_data",
          "data": {
            "text/markdown": "#### Favorable and unfavorable labels",
            "text/plain": [
              "<IPython.core.display.Markdown object>"
            ]
          },
          "metadata": {
            "tags": []
          }
        },
        {
          "output_type": "stream",
          "text": [
            "1.0 0.0\n"
          ],
          "name": "stdout"
        },
        {
          "output_type": "display_data",
          "data": {
            "text/markdown": "#### Protected attribute names",
            "text/plain": [
              "<IPython.core.display.Markdown object>"
            ]
          },
          "metadata": {
            "tags": []
          }
        },
        {
          "output_type": "stream",
          "text": [
            "['sex', 'race']\n"
          ],
          "name": "stdout"
        },
        {
          "output_type": "display_data",
          "data": {
            "text/markdown": "#### Privileged and unprivileged protected attribute values",
            "text/plain": [
              "<IPython.core.display.Markdown object>"
            ]
          },
          "metadata": {
            "tags": []
          }
        },
        {
          "output_type": "stream",
          "text": [
            "[array([1.]), array([1.])] [array([0.]), array([0.])]\n"
          ],
          "name": "stdout"
        },
        {
          "output_type": "display_data",
          "data": {
            "text/markdown": "#### Dataset feature names",
            "text/plain": [
              "<IPython.core.display.Markdown object>"
            ]
          },
          "metadata": {
            "tags": []
          }
        },
        {
          "output_type": "stream",
          "text": [
            "['race', 'sex', 'Age (decade)=10', 'Age (decade)=20', 'Age (decade)=30', 'Age (decade)=40', 'Age (decade)=50', 'Age (decade)=60', 'Age (decade)=>=70', 'Education Years=6', 'Education Years=7', 'Education Years=8', 'Education Years=9', 'Education Years=10', 'Education Years=11', 'Education Years=12', 'Education Years=<6', 'Education Years=>12']\n"
          ],
          "name": "stdout"
        }
      ]
    },
    {
      "cell_type": "markdown",
      "metadata": {
        "id": "2D_FiXzGdBhQ",
        "colab_type": "text"
      },
      "source": [
        "#### Metric for original training data"
      ]
    },
    {
      "cell_type": "code",
      "metadata": {
        "id": "hEjeW5bIdBhS",
        "colab_type": "code",
        "outputId": "f16d40c8-931d-4a50-c926-c0c18bb19033",
        "colab": {
          "base_uri": "https://localhost:8080/",
          "height": 68
        }
      },
      "source": [
        "# Metric for the original dataset\n",
        "metric_orig_train = BinaryLabelDatasetMetric(dataset_orig_train, \n",
        "                                             unprivileged_groups=unprivileged_groups,\n",
        "                                             privileged_groups=privileged_groups)\n",
        "display(Markdown(\"#### Original training dataset\"))\n",
        "print(\"Train set: Difference in mean outcomes between unprivileged and privileged groups = %f\" % metric_orig_train.mean_difference())\n",
        "metric_orig_test = BinaryLabelDatasetMetric(dataset_orig_test, \n",
        "                                             unprivileged_groups=unprivileged_groups,\n",
        "                                             privileged_groups=privileged_groups)\n",
        "print(\"Test set: Difference in mean outcomes between unprivileged and privileged groups = %f\" % metric_orig_test.mean_difference())"
      ],
      "execution_count": 6,
      "outputs": [
        {
          "output_type": "display_data",
          "data": {
            "text/markdown": "#### Original training dataset",
            "text/plain": [
              "<IPython.core.display.Markdown object>"
            ]
          },
          "metadata": {
            "tags": []
          }
        },
        {
          "output_type": "stream",
          "text": [
            "Train set: Difference in mean outcomes between unprivileged and privileged groups = -0.189581\n",
            "Test set: Difference in mean outcomes between unprivileged and privileged groups = -0.205938\n"
          ],
          "name": "stdout"
        }
      ]
    },
    {
      "cell_type": "code",
      "metadata": {
        "id": "0RGDBY2RdBhZ",
        "colab_type": "code",
        "outputId": "9296434e-7a98-4390-a700-7b938a0481af",
        "colab": {
          "base_uri": "https://localhost:8080/",
          "height": 68
        }
      },
      "source": [
        "min_max_scaler = MaxAbsScaler()\n",
        "dataset_orig_train.features = min_max_scaler.fit_transform(dataset_orig_train.features)\n",
        "dataset_orig_test.features = min_max_scaler.transform(dataset_orig_test.features)\n",
        "metric_scaled_train = BinaryLabelDatasetMetric(dataset_orig_train, \n",
        "                             unprivileged_groups=unprivileged_groups,\n",
        "                             privileged_groups=privileged_groups)\n",
        "display(Markdown(\"#### Scaled dataset - Verify that the scaling does not affect the group label statistics\"))\n",
        "print(\"Train set: Difference in mean outcomes between unprivileged and privileged groups = %f\" % metric_scaled_train.mean_difference())\n",
        "metric_scaled_test = BinaryLabelDatasetMetric(dataset_orig_test, \n",
        "                             unprivileged_groups=unprivileged_groups,\n",
        "                             privileged_groups=privileged_groups)\n",
        "print(\"Test set: Difference in mean outcomes between unprivileged and privileged groups = %f\" % metric_scaled_test.mean_difference())\n"
      ],
      "execution_count": 7,
      "outputs": [
        {
          "output_type": "display_data",
          "data": {
            "text/markdown": "#### Scaled dataset - Verify that the scaling does not affect the group label statistics",
            "text/plain": [
              "<IPython.core.display.Markdown object>"
            ]
          },
          "metadata": {
            "tags": []
          }
        },
        {
          "output_type": "stream",
          "text": [
            "Train set: Difference in mean outcomes between unprivileged and privileged groups = -0.189581\n",
            "Test set: Difference in mean outcomes between unprivileged and privileged groups = -0.205938\n"
          ],
          "name": "stdout"
        }
      ]
    },
    {
      "cell_type": "markdown",
      "metadata": {
        "id": "k8Yli0jndBhh",
        "colab_type": "text"
      },
      "source": [
        "### Learn plan classifier without debiasing"
      ]
    },
    {
      "cell_type": "code",
      "metadata": {
        "id": "AlAILO8edBhj",
        "colab_type": "code",
        "colab": {}
      },
      "source": [
        "# Load post-processing algorithm that equalizes the odds\n",
        "# Learn parameters with debias set to False\n",
        "sess = tf.Session()\n",
        "plain_model = AdversarialDebiasing(privileged_groups = privileged_groups,\n",
        "                          unprivileged_groups = unprivileged_groups,\n",
        "                          scope_name='plain_classifier',\n",
        "                          debias=False,\n",
        "                          sess=sess)"
      ],
      "execution_count": 0,
      "outputs": []
    },
    {
      "cell_type": "code",
      "metadata": {
        "scrolled": true,
        "id": "kDacKLdtdBhr",
        "colab_type": "code",
        "outputId": "b2d15256-2be2-4a5b-bb48-65b9b3e5eb89",
        "colab": {
          "base_uri": "https://localhost:8080/",
          "height": 1000
        }
      },
      "source": [
        "plain_model.fit(dataset_orig_train)"
      ],
      "execution_count": 9,
      "outputs": [
        {
          "output_type": "stream",
          "text": [
            "epoch 0; iter: 0; batch classifier loss: 0.753504\n",
            "epoch 0; iter: 200; batch classifier loss: 0.530040\n",
            "epoch 1; iter: 0; batch classifier loss: 0.384968\n",
            "epoch 1; iter: 200; batch classifier loss: 0.498151\n",
            "epoch 2; iter: 0; batch classifier loss: 0.358207\n",
            "epoch 2; iter: 200; batch classifier loss: 0.414384\n",
            "epoch 3; iter: 0; batch classifier loss: 0.464042\n",
            "epoch 3; iter: 200; batch classifier loss: 0.407098\n",
            "epoch 4; iter: 0; batch classifier loss: 0.367692\n",
            "epoch 4; iter: 200; batch classifier loss: 0.405318\n",
            "epoch 5; iter: 0; batch classifier loss: 0.477896\n",
            "epoch 5; iter: 200; batch classifier loss: 0.346462\n",
            "epoch 6; iter: 0; batch classifier loss: 0.416028\n",
            "epoch 6; iter: 200; batch classifier loss: 0.355600\n",
            "epoch 7; iter: 0; batch classifier loss: 0.398912\n",
            "epoch 7; iter: 200; batch classifier loss: 0.431683\n",
            "epoch 8; iter: 0; batch classifier loss: 0.396167\n",
            "epoch 8; iter: 200; batch classifier loss: 0.390670\n",
            "epoch 9; iter: 0; batch classifier loss: 0.482900\n",
            "epoch 9; iter: 200; batch classifier loss: 0.425688\n",
            "epoch 10; iter: 0; batch classifier loss: 0.381017\n",
            "epoch 10; iter: 200; batch classifier loss: 0.363055\n",
            "epoch 11; iter: 0; batch classifier loss: 0.453800\n",
            "epoch 11; iter: 200; batch classifier loss: 0.487712\n",
            "epoch 12; iter: 0; batch classifier loss: 0.441068\n",
            "epoch 12; iter: 200; batch classifier loss: 0.542522\n",
            "epoch 13; iter: 0; batch classifier loss: 0.471708\n",
            "epoch 13; iter: 200; batch classifier loss: 0.393174\n",
            "epoch 14; iter: 0; batch classifier loss: 0.394993\n",
            "epoch 14; iter: 200; batch classifier loss: 0.387035\n",
            "epoch 15; iter: 0; batch classifier loss: 0.428887\n",
            "epoch 15; iter: 200; batch classifier loss: 0.477634\n",
            "epoch 16; iter: 0; batch classifier loss: 0.440256\n",
            "epoch 16; iter: 200; batch classifier loss: 0.403474\n",
            "epoch 17; iter: 0; batch classifier loss: 0.438129\n",
            "epoch 17; iter: 200; batch classifier loss: 0.375443\n",
            "epoch 18; iter: 0; batch classifier loss: 0.370578\n",
            "epoch 18; iter: 200; batch classifier loss: 0.363852\n",
            "epoch 19; iter: 0; batch classifier loss: 0.346785\n",
            "epoch 19; iter: 200; batch classifier loss: 0.434504\n",
            "epoch 20; iter: 0; batch classifier loss: 0.548407\n",
            "epoch 20; iter: 200; batch classifier loss: 0.517137\n",
            "epoch 21; iter: 0; batch classifier loss: 0.486036\n",
            "epoch 21; iter: 200; batch classifier loss: 0.361251\n",
            "epoch 22; iter: 0; batch classifier loss: 0.394936\n",
            "epoch 22; iter: 200; batch classifier loss: 0.419640\n",
            "epoch 23; iter: 0; batch classifier loss: 0.503278\n",
            "epoch 23; iter: 200; batch classifier loss: 0.471681\n",
            "epoch 24; iter: 0; batch classifier loss: 0.368919\n",
            "epoch 24; iter: 200; batch classifier loss: 0.403167\n",
            "epoch 25; iter: 0; batch classifier loss: 0.422267\n",
            "epoch 25; iter: 200; batch classifier loss: 0.413132\n",
            "epoch 26; iter: 0; batch classifier loss: 0.468197\n",
            "epoch 26; iter: 200; batch classifier loss: 0.496761\n",
            "epoch 27; iter: 0; batch classifier loss: 0.427872\n",
            "epoch 27; iter: 200; batch classifier loss: 0.392427\n",
            "epoch 28; iter: 0; batch classifier loss: 0.422428\n",
            "epoch 28; iter: 200; batch classifier loss: 0.443295\n",
            "epoch 29; iter: 0; batch classifier loss: 0.355570\n",
            "epoch 29; iter: 200; batch classifier loss: 0.472649\n",
            "epoch 30; iter: 0; batch classifier loss: 0.452513\n",
            "epoch 30; iter: 200; batch classifier loss: 0.415409\n",
            "epoch 31; iter: 0; batch classifier loss: 0.409039\n",
            "epoch 31; iter: 200; batch classifier loss: 0.352054\n",
            "epoch 32; iter: 0; batch classifier loss: 0.378895\n",
            "epoch 32; iter: 200; batch classifier loss: 0.533030\n",
            "epoch 33; iter: 0; batch classifier loss: 0.475656\n",
            "epoch 33; iter: 200; batch classifier loss: 0.409223\n",
            "epoch 34; iter: 0; batch classifier loss: 0.447774\n",
            "epoch 34; iter: 200; batch classifier loss: 0.411552\n",
            "epoch 35; iter: 0; batch classifier loss: 0.394898\n",
            "epoch 35; iter: 200; batch classifier loss: 0.338193\n",
            "epoch 36; iter: 0; batch classifier loss: 0.478397\n",
            "epoch 36; iter: 200; batch classifier loss: 0.457956\n",
            "epoch 37; iter: 0; batch classifier loss: 0.349469\n",
            "epoch 37; iter: 200; batch classifier loss: 0.456673\n",
            "epoch 38; iter: 0; batch classifier loss: 0.381304\n",
            "epoch 38; iter: 200; batch classifier loss: 0.426896\n",
            "epoch 39; iter: 0; batch classifier loss: 0.448674\n",
            "epoch 39; iter: 200; batch classifier loss: 0.457877\n",
            "epoch 40; iter: 0; batch classifier loss: 0.342794\n",
            "epoch 40; iter: 200; batch classifier loss: 0.487891\n",
            "epoch 41; iter: 0; batch classifier loss: 0.439843\n",
            "epoch 41; iter: 200; batch classifier loss: 0.390092\n",
            "epoch 42; iter: 0; batch classifier loss: 0.314094\n",
            "epoch 42; iter: 200; batch classifier loss: 0.430741\n",
            "epoch 43; iter: 0; batch classifier loss: 0.462951\n",
            "epoch 43; iter: 200; batch classifier loss: 0.433478\n",
            "epoch 44; iter: 0; batch classifier loss: 0.462036\n",
            "epoch 44; iter: 200; batch classifier loss: 0.419996\n",
            "epoch 45; iter: 0; batch classifier loss: 0.413488\n",
            "epoch 45; iter: 200; batch classifier loss: 0.403299\n",
            "epoch 46; iter: 0; batch classifier loss: 0.414517\n",
            "epoch 46; iter: 200; batch classifier loss: 0.406858\n",
            "epoch 47; iter: 0; batch classifier loss: 0.385998\n",
            "epoch 47; iter: 200; batch classifier loss: 0.400968\n",
            "epoch 48; iter: 0; batch classifier loss: 0.452753\n",
            "epoch 48; iter: 200; batch classifier loss: 0.397647\n",
            "epoch 49; iter: 0; batch classifier loss: 0.367547\n",
            "epoch 49; iter: 200; batch classifier loss: 0.369064\n"
          ],
          "name": "stdout"
        },
        {
          "output_type": "execute_result",
          "data": {
            "text/plain": [
              "<aif360.algorithms.inprocessing.adversarial_debiasing.AdversarialDebiasing at 0x7f775d561d30>"
            ]
          },
          "metadata": {
            "tags": []
          },
          "execution_count": 9
        }
      ]
    },
    {
      "cell_type": "code",
      "metadata": {
        "id": "_1x0uGG4dBhy",
        "colab_type": "code",
        "colab": {}
      },
      "source": [
        "# Apply the plain model to test data\n",
        "dataset_nodebiasing_train = plain_model.predict(dataset_orig_train)\n",
        "dataset_nodebiasing_test = plain_model.predict(dataset_orig_test)"
      ],
      "execution_count": 0,
      "outputs": []
    },
    {
      "cell_type": "code",
      "metadata": {
        "id": "mLKA0ALndBh3",
        "colab_type": "code",
        "outputId": "f29176fa-7611-406f-df05-89fbd7b98604",
        "colab": {
          "base_uri": "https://localhost:8080/",
          "height": 187
        }
      },
      "source": [
        "# Metrics for the dataset from plain model (without debiasing)\n",
        "display(Markdown(\"#### Plain model - without debiasing - dataset metrics\"))\n",
        "metric_dataset_nodebiasing_train = BinaryLabelDatasetMetric(dataset_nodebiasing_train, \n",
        "                                             unprivileged_groups=unprivileged_groups,\n",
        "                                             privileged_groups=privileged_groups)\n",
        "\n",
        "print(\"Train set: Difference in mean outcomes between unprivileged and privileged groups = %f\" % metric_dataset_nodebiasing_train.mean_difference())\n",
        "\n",
        "metric_dataset_nodebiasing_test = BinaryLabelDatasetMetric(dataset_nodebiasing_test, \n",
        "                                             unprivileged_groups=unprivileged_groups,\n",
        "                                             privileged_groups=privileged_groups)\n",
        "\n",
        "print(\"Test set: Difference in mean outcomes between unprivileged and privileged groups = %f\" % metric_dataset_nodebiasing_test.mean_difference())\n",
        "\n",
        "display(Markdown(\"#### Plain model - without debiasing - classification metrics\"))\n",
        "classified_metric_nodebiasing_test = ClassificationMetric(dataset_orig_test, \n",
        "                                                 dataset_nodebiasing_test,\n",
        "                                                 unprivileged_groups=unprivileged_groups,\n",
        "                                                 privileged_groups=privileged_groups)\n",
        "print(\"Test set: Classification accuracy = %f\" % classified_metric_nodebiasing_test.accuracy())\n",
        "TPR = classified_metric_nodebiasing_test.true_positive_rate()\n",
        "TNR = classified_metric_nodebiasing_test.true_negative_rate()\n",
        "bal_acc_nodebiasing_test = 0.5*(TPR+TNR)\n",
        "print(\"Test set: Balanced classification accuracy = %f\" % bal_acc_nodebiasing_test)\n",
        "print(\"Test set: Disparate impact = %f\" % classified_metric_nodebiasing_test.disparate_impact())\n",
        "print(\"Test set: Equal opportunity difference = %f\" % classified_metric_nodebiasing_test.equal_opportunity_difference())\n",
        "print(\"Test set: Average odds difference = %f\" % classified_metric_nodebiasing_test.average_odds_difference())\n",
        "print(\"Test set: Theil_index = %f\" % classified_metric_nodebiasing_test.theil_index())"
      ],
      "execution_count": 11,
      "outputs": [
        {
          "output_type": "display_data",
          "data": {
            "text/markdown": "#### Plain model - without debiasing - dataset metrics",
            "text/plain": [
              "<IPython.core.display.Markdown object>"
            ]
          },
          "metadata": {
            "tags": []
          }
        },
        {
          "output_type": "stream",
          "text": [
            "Train set: Difference in mean outcomes between unprivileged and privileged groups = -0.227575\n",
            "Test set: Difference in mean outcomes between unprivileged and privileged groups = -0.234499\n"
          ],
          "name": "stdout"
        },
        {
          "output_type": "display_data",
          "data": {
            "text/markdown": "#### Plain model - without debiasing - classification metrics",
            "text/plain": [
              "<IPython.core.display.Markdown object>"
            ]
          },
          "metadata": {
            "tags": []
          }
        },
        {
          "output_type": "stream",
          "text": [
            "Test set: Classification accuracy = 0.799086\n",
            "Test set: Balanced classification accuracy = 0.669684\n",
            "Test set: Disparate impact = 0.000000\n",
            "Test set: Equal opportunity difference = -0.482126\n",
            "Test set: Average odds difference = -0.301893\n",
            "Test set: Theil_index = 0.177832\n"
          ],
          "name": "stdout"
        }
      ]
    },
    {
      "cell_type": "markdown",
      "metadata": {
        "id": "JXaAnczRdBh-",
        "colab_type": "text"
      },
      "source": [
        "### Apply in-processing algorithm based on adversarial learning"
      ]
    },
    {
      "cell_type": "code",
      "metadata": {
        "id": "PBI5i5BvdBiA",
        "colab_type": "code",
        "colab": {}
      },
      "source": [
        "sess.close()\n",
        "tf.reset_default_graph()\n",
        "sess = tf.Session()"
      ],
      "execution_count": 0,
      "outputs": []
    },
    {
      "cell_type": "code",
      "metadata": {
        "id": "0ZLhz4WVdBiG",
        "colab_type": "code",
        "colab": {}
      },
      "source": [
        "# Learn parameters with debias set to True\n",
        "debiased_model = AdversarialDebiasing(privileged_groups = privileged_groups,\n",
        "                          unprivileged_groups = unprivileged_groups,\n",
        "                          scope_name='debiased_classifier',\n",
        "                          debias=True,\n",
        "                          sess=sess)"
      ],
      "execution_count": 0,
      "outputs": []
    },
    {
      "cell_type": "code",
      "metadata": {
        "scrolled": true,
        "id": "Qhydrm-PdBiL",
        "colab_type": "code",
        "outputId": "e5502a8c-5a5d-484f-fbcc-5e5ce6a7675b",
        "colab": {
          "base_uri": "https://localhost:8080/",
          "height": 1000
        }
      },
      "source": [
        "debiased_model.fit(dataset_orig_train)"
      ],
      "execution_count": 14,
      "outputs": [
        {
          "output_type": "stream",
          "text": [
            "epoch 0; iter: 0; batch classifier loss: 0.646602; batch adversarial loss: 0.672714\n",
            "epoch 0; iter: 200; batch classifier loss: 0.542372; batch adversarial loss: 0.624911\n",
            "epoch 1; iter: 0; batch classifier loss: 0.531448; batch adversarial loss: 0.622531\n",
            "epoch 1; iter: 200; batch classifier loss: 0.407296; batch adversarial loss: 0.616827\n",
            "epoch 2; iter: 0; batch classifier loss: 0.396377; batch adversarial loss: 0.661027\n",
            "epoch 2; iter: 200; batch classifier loss: 0.408207; batch adversarial loss: 0.608233\n",
            "epoch 3; iter: 0; batch classifier loss: 0.474685; batch adversarial loss: 0.647183\n",
            "epoch 3; iter: 200; batch classifier loss: 0.438715; batch adversarial loss: 0.626990\n",
            "epoch 4; iter: 0; batch classifier loss: 0.419092; batch adversarial loss: 0.636738\n",
            "epoch 4; iter: 200; batch classifier loss: 0.404679; batch adversarial loss: 0.616575\n",
            "epoch 5; iter: 0; batch classifier loss: 0.381741; batch adversarial loss: 0.613724\n",
            "epoch 5; iter: 200; batch classifier loss: 0.407349; batch adversarial loss: 0.588781\n",
            "epoch 6; iter: 0; batch classifier loss: 0.400369; batch adversarial loss: 0.608700\n",
            "epoch 6; iter: 200; batch classifier loss: 0.469840; batch adversarial loss: 0.567017\n",
            "epoch 7; iter: 0; batch classifier loss: 0.426312; batch adversarial loss: 0.613923\n",
            "epoch 7; iter: 200; batch classifier loss: 0.354599; batch adversarial loss: 0.689652\n",
            "epoch 8; iter: 0; batch classifier loss: 0.490826; batch adversarial loss: 0.601337\n",
            "epoch 8; iter: 200; batch classifier loss: 0.438435; batch adversarial loss: 0.628656\n",
            "epoch 9; iter: 0; batch classifier loss: 0.398154; batch adversarial loss: 0.619566\n",
            "epoch 9; iter: 200; batch classifier loss: 0.457700; batch adversarial loss: 0.600354\n",
            "epoch 10; iter: 0; batch classifier loss: 0.350018; batch adversarial loss: 0.598235\n",
            "epoch 10; iter: 200; batch classifier loss: 0.463300; batch adversarial loss: 0.607593\n",
            "epoch 11; iter: 0; batch classifier loss: 0.377955; batch adversarial loss: 0.585613\n",
            "epoch 11; iter: 200; batch classifier loss: 0.453032; batch adversarial loss: 0.597701\n",
            "epoch 12; iter: 0; batch classifier loss: 0.393321; batch adversarial loss: 0.630919\n",
            "epoch 12; iter: 200; batch classifier loss: 0.398300; batch adversarial loss: 0.562808\n",
            "epoch 13; iter: 0; batch classifier loss: 0.429382; batch adversarial loss: 0.588313\n",
            "epoch 13; iter: 200; batch classifier loss: 0.410955; batch adversarial loss: 0.593936\n",
            "epoch 14; iter: 0; batch classifier loss: 0.407131; batch adversarial loss: 0.624464\n",
            "epoch 14; iter: 200; batch classifier loss: 0.406563; batch adversarial loss: 0.554047\n",
            "epoch 15; iter: 0; batch classifier loss: 0.422994; batch adversarial loss: 0.620384\n",
            "epoch 15; iter: 200; batch classifier loss: 0.393619; batch adversarial loss: 0.645933\n",
            "epoch 16; iter: 0; batch classifier loss: 0.465824; batch adversarial loss: 0.632951\n",
            "epoch 16; iter: 200; batch classifier loss: 0.409411; batch adversarial loss: 0.599798\n",
            "epoch 17; iter: 0; batch classifier loss: 0.466465; batch adversarial loss: 0.573128\n",
            "epoch 17; iter: 200; batch classifier loss: 0.388390; batch adversarial loss: 0.655844\n",
            "epoch 18; iter: 0; batch classifier loss: 0.388001; batch adversarial loss: 0.601612\n",
            "epoch 18; iter: 200; batch classifier loss: 0.364985; batch adversarial loss: 0.654110\n",
            "epoch 19; iter: 0; batch classifier loss: 0.461865; batch adversarial loss: 0.684329\n",
            "epoch 19; iter: 200; batch classifier loss: 0.422312; batch adversarial loss: 0.613823\n",
            "epoch 20; iter: 0; batch classifier loss: 0.489561; batch adversarial loss: 0.581583\n",
            "epoch 20; iter: 200; batch classifier loss: 0.437508; batch adversarial loss: 0.644399\n",
            "epoch 21; iter: 0; batch classifier loss: 0.443540; batch adversarial loss: 0.646635\n",
            "epoch 21; iter: 200; batch classifier loss: 0.298127; batch adversarial loss: 0.605092\n",
            "epoch 22; iter: 0; batch classifier loss: 0.398955; batch adversarial loss: 0.632035\n",
            "epoch 22; iter: 200; batch classifier loss: 0.518875; batch adversarial loss: 0.633823\n",
            "epoch 23; iter: 0; batch classifier loss: 0.468066; batch adversarial loss: 0.513252\n",
            "epoch 23; iter: 200; batch classifier loss: 0.420244; batch adversarial loss: 0.611654\n",
            "epoch 24; iter: 0; batch classifier loss: 0.361836; batch adversarial loss: 0.589636\n",
            "epoch 24; iter: 200; batch classifier loss: 0.391610; batch adversarial loss: 0.537571\n",
            "epoch 25; iter: 0; batch classifier loss: 0.455471; batch adversarial loss: 0.628071\n",
            "epoch 25; iter: 200; batch classifier loss: 0.333104; batch adversarial loss: 0.607438\n",
            "epoch 26; iter: 0; batch classifier loss: 0.388474; batch adversarial loss: 0.570260\n",
            "epoch 26; iter: 200; batch classifier loss: 0.400601; batch adversarial loss: 0.609482\n",
            "epoch 27; iter: 0; batch classifier loss: 0.400194; batch adversarial loss: 0.582291\n",
            "epoch 27; iter: 200; batch classifier loss: 0.467133; batch adversarial loss: 0.558448\n",
            "epoch 28; iter: 0; batch classifier loss: 0.415214; batch adversarial loss: 0.619730\n",
            "epoch 28; iter: 200; batch classifier loss: 0.361154; batch adversarial loss: 0.643798\n",
            "epoch 29; iter: 0; batch classifier loss: 0.436021; batch adversarial loss: 0.584265\n",
            "epoch 29; iter: 200; batch classifier loss: 0.400168; batch adversarial loss: 0.577438\n",
            "epoch 30; iter: 0; batch classifier loss: 0.377194; batch adversarial loss: 0.575915\n",
            "epoch 30; iter: 200; batch classifier loss: 0.488878; batch adversarial loss: 0.656536\n",
            "epoch 31; iter: 0; batch classifier loss: 0.421326; batch adversarial loss: 0.624811\n",
            "epoch 31; iter: 200; batch classifier loss: 0.448180; batch adversarial loss: 0.587791\n",
            "epoch 32; iter: 0; batch classifier loss: 0.352662; batch adversarial loss: 0.642122\n",
            "epoch 32; iter: 200; batch classifier loss: 0.516645; batch adversarial loss: 0.566109\n",
            "epoch 33; iter: 0; batch classifier loss: 0.504349; batch adversarial loss: 0.641080\n",
            "epoch 33; iter: 200; batch classifier loss: 0.509687; batch adversarial loss: 0.611866\n",
            "epoch 34; iter: 0; batch classifier loss: 0.346302; batch adversarial loss: 0.631703\n",
            "epoch 34; iter: 200; batch classifier loss: 0.456321; batch adversarial loss: 0.585953\n",
            "epoch 35; iter: 0; batch classifier loss: 0.430136; batch adversarial loss: 0.631865\n",
            "epoch 35; iter: 200; batch classifier loss: 0.353435; batch adversarial loss: 0.625446\n",
            "epoch 36; iter: 0; batch classifier loss: 0.380194; batch adversarial loss: 0.599717\n",
            "epoch 36; iter: 200; batch classifier loss: 0.377028; batch adversarial loss: 0.634562\n",
            "epoch 37; iter: 0; batch classifier loss: 0.513248; batch adversarial loss: 0.544178\n",
            "epoch 37; iter: 200; batch classifier loss: 0.414495; batch adversarial loss: 0.586740\n",
            "epoch 38; iter: 0; batch classifier loss: 0.431501; batch adversarial loss: 0.553016\n",
            "epoch 38; iter: 200; batch classifier loss: 0.480440; batch adversarial loss: 0.590816\n",
            "epoch 39; iter: 0; batch classifier loss: 0.390156; batch adversarial loss: 0.570697\n",
            "epoch 39; iter: 200; batch classifier loss: 0.357798; batch adversarial loss: 0.557117\n",
            "epoch 40; iter: 0; batch classifier loss: 0.406350; batch adversarial loss: 0.619080\n",
            "epoch 40; iter: 200; batch classifier loss: 0.523970; batch adversarial loss: 0.557758\n",
            "epoch 41; iter: 0; batch classifier loss: 0.476580; batch adversarial loss: 0.635995\n",
            "epoch 41; iter: 200; batch classifier loss: 0.335578; batch adversarial loss: 0.584056\n",
            "epoch 42; iter: 0; batch classifier loss: 0.388492; batch adversarial loss: 0.649247\n",
            "epoch 42; iter: 200; batch classifier loss: 0.369456; batch adversarial loss: 0.575528\n",
            "epoch 43; iter: 0; batch classifier loss: 0.445458; batch adversarial loss: 0.604486\n",
            "epoch 43; iter: 200; batch classifier loss: 0.484858; batch adversarial loss: 0.575057\n",
            "epoch 44; iter: 0; batch classifier loss: 0.416210; batch adversarial loss: 0.585296\n",
            "epoch 44; iter: 200; batch classifier loss: 0.436419; batch adversarial loss: 0.614850\n",
            "epoch 45; iter: 0; batch classifier loss: 0.417150; batch adversarial loss: 0.633525\n",
            "epoch 45; iter: 200; batch classifier loss: 0.488171; batch adversarial loss: 0.631299\n",
            "epoch 46; iter: 0; batch classifier loss: 0.345430; batch adversarial loss: 0.642172\n",
            "epoch 46; iter: 200; batch classifier loss: 0.428050; batch adversarial loss: 0.652779\n",
            "epoch 47; iter: 0; batch classifier loss: 0.380246; batch adversarial loss: 0.568192\n",
            "epoch 47; iter: 200; batch classifier loss: 0.406928; batch adversarial loss: 0.585491\n",
            "epoch 48; iter: 0; batch classifier loss: 0.338162; batch adversarial loss: 0.623921\n",
            "epoch 48; iter: 200; batch classifier loss: 0.459122; batch adversarial loss: 0.592799\n",
            "epoch 49; iter: 0; batch classifier loss: 0.428369; batch adversarial loss: 0.599164\n",
            "epoch 49; iter: 200; batch classifier loss: 0.419721; batch adversarial loss: 0.572375\n"
          ],
          "name": "stdout"
        },
        {
          "output_type": "execute_result",
          "data": {
            "text/plain": [
              "<aif360.algorithms.inprocessing.adversarial_debiasing.AdversarialDebiasing at 0x7f77286d9710>"
            ]
          },
          "metadata": {
            "tags": []
          },
          "execution_count": 14
        }
      ]
    },
    {
      "cell_type": "code",
      "metadata": {
        "id": "KSL33flZdBiR",
        "colab_type": "code",
        "colab": {}
      },
      "source": [
        "# Apply the plain model to test data\n",
        "dataset_debiasing_train = debiased_model.predict(dataset_orig_train)\n",
        "dataset_debiasing_test = debiased_model.predict(dataset_orig_test)"
      ],
      "execution_count": 0,
      "outputs": []
    },
    {
      "cell_type": "code",
      "metadata": {
        "id": "3izs52oMdBia",
        "colab_type": "code",
        "outputId": "d8d4d34d-031b-4371-c514-6c2149356626",
        "colab": {
          "base_uri": "https://localhost:8080/",
          "height": 357
        }
      },
      "source": [
        "# Metrics for the dataset from plain model (without debiasing)\n",
        "display(Markdown(\"#### Plain model - without debiasing - dataset metrics\"))\n",
        "print(\"Train set: Difference in mean outcomes between unprivileged and privileged groups = %f\" % metric_dataset_nodebiasing_train.mean_difference())\n",
        "print(\"Test set: Difference in mean outcomes between unprivileged and privileged groups = %f\" % metric_dataset_nodebiasing_test.mean_difference())\n",
        "\n",
        "# Metrics for the dataset from model with debiasing\n",
        "display(Markdown(\"#### Model - with debiasing - dataset metrics\"))\n",
        "metric_dataset_debiasing_train = BinaryLabelDatasetMetric(dataset_debiasing_train, \n",
        "                                             unprivileged_groups=unprivileged_groups,\n",
        "                                             privileged_groups=privileged_groups)\n",
        "\n",
        "print(\"Train set: Difference in mean outcomes between unprivileged and privileged groups = %f\" % metric_dataset_debiasing_train.mean_difference())\n",
        "\n",
        "metric_dataset_debiasing_test = BinaryLabelDatasetMetric(dataset_debiasing_test, \n",
        "                                             unprivileged_groups=unprivileged_groups,\n",
        "                                             privileged_groups=privileged_groups)\n",
        "\n",
        "print(\"Test set: Difference in mean outcomes between unprivileged and privileged groups = %f\" % metric_dataset_debiasing_test.mean_difference())\n",
        "\n",
        "\n",
        "\n",
        "display(Markdown(\"#### Plain model - without debiasing - classification metrics\"))\n",
        "print(\"Test set: Classification accuracy = %f\" % classified_metric_nodebiasing_test.accuracy())\n",
        "TPR = classified_metric_nodebiasing_test.true_positive_rate()\n",
        "TNR = classified_metric_nodebiasing_test.true_negative_rate()\n",
        "bal_acc_nodebiasing_test = 0.5*(TPR+TNR)\n",
        "print(\"Test set: Balanced classification accuracy = %f\" % bal_acc_nodebiasing_test)\n",
        "print(\"Test set: Disparate impact = %f\" % classified_metric_nodebiasing_test.disparate_impact())\n",
        "print(\"Test set: Equal opportunity difference = %f\" % classified_metric_nodebiasing_test.equal_opportunity_difference())\n",
        "print(\"Test set: Average odds difference = %f\" % classified_metric_nodebiasing_test.average_odds_difference())\n",
        "print(\"Test set: Theil_index = %f\" % classified_metric_nodebiasing_test.theil_index())\n",
        "\n",
        "\n",
        "\n",
        "display(Markdown(\"#### Model - with debiasing - classification metrics\"))\n",
        "classified_metric_debiasing_test = ClassificationMetric(dataset_orig_test, \n",
        "                                                 dataset_debiasing_test,\n",
        "                                                 unprivileged_groups=unprivileged_groups,\n",
        "                                                 privileged_groups=privileged_groups)\n",
        "print(\"Test set: Classification accuracy = %f\" % classified_metric_debiasing_test.accuracy())\n",
        "TPR = classified_metric_debiasing_test.true_positive_rate()\n",
        "TNR = classified_metric_debiasing_test.true_negative_rate()\n",
        "bal_acc_debiasing_test = 0.5*(TPR+TNR)\n",
        "print(\"Test set: Balanced classification accuracy = %f\" % bal_acc_debiasing_test)\n",
        "print(\"Test set: Disparate impact = %f\" % classified_metric_debiasing_test.disparate_impact())\n",
        "print(\"Test set: Equal opportunity difference = %f\" % classified_metric_debiasing_test.equal_opportunity_difference())\n",
        "print(\"Test set: Average odds difference = %f\" % classified_metric_debiasing_test.average_odds_difference())\n",
        "print(\"Test set: Theil_index = %f\" % classified_metric_debiasing_test.theil_index())"
      ],
      "execution_count": 16,
      "outputs": [
        {
          "output_type": "display_data",
          "data": {
            "text/markdown": "#### Plain model - without debiasing - dataset metrics",
            "text/plain": [
              "<IPython.core.display.Markdown object>"
            ]
          },
          "metadata": {
            "tags": []
          }
        },
        {
          "output_type": "stream",
          "text": [
            "Train set: Difference in mean outcomes between unprivileged and privileged groups = -0.227575\n",
            "Test set: Difference in mean outcomes between unprivileged and privileged groups = -0.234499\n"
          ],
          "name": "stdout"
        },
        {
          "output_type": "display_data",
          "data": {
            "text/markdown": "#### Model - with debiasing - dataset metrics",
            "text/plain": [
              "<IPython.core.display.Markdown object>"
            ]
          },
          "metadata": {
            "tags": []
          }
        },
        {
          "output_type": "stream",
          "text": [
            "Train set: Difference in mean outcomes between unprivileged and privileged groups = -0.082578\n",
            "Test set: Difference in mean outcomes between unprivileged and privileged groups = -0.093791\n"
          ],
          "name": "stdout"
        },
        {
          "output_type": "display_data",
          "data": {
            "text/markdown": "#### Plain model - without debiasing - classification metrics",
            "text/plain": [
              "<IPython.core.display.Markdown object>"
            ]
          },
          "metadata": {
            "tags": []
          }
        },
        {
          "output_type": "stream",
          "text": [
            "Test set: Classification accuracy = 0.799086\n",
            "Test set: Balanced classification accuracy = 0.669684\n",
            "Test set: Disparate impact = 0.000000\n",
            "Test set: Equal opportunity difference = -0.482126\n",
            "Test set: Average odds difference = -0.301893\n",
            "Test set: Theil_index = 0.177832\n"
          ],
          "name": "stdout"
        },
        {
          "output_type": "display_data",
          "data": {
            "text/markdown": "#### Model - with debiasing - classification metrics",
            "text/plain": [
              "<IPython.core.display.Markdown object>"
            ]
          },
          "metadata": {
            "tags": []
          }
        },
        {
          "output_type": "stream",
          "text": [
            "Test set: Classification accuracy = 0.789668\n",
            "Test set: Balanced classification accuracy = 0.671724\n",
            "Test set: Disparate impact = 0.554659\n",
            "Test set: Equal opportunity difference = -0.040427\n",
            "Test set: Average odds difference = -0.031002\n",
            "Test set: Theil_index = 0.175480\n"
          ],
          "name": "stdout"
        }
      ]
    },
    {
      "cell_type": "markdown",
      "metadata": {
        "id": "WE04h_pXdBik",
        "colab_type": "text"
      },
      "source": [
        "\n",
        "    References:\n",
        "    [1] B. H. Zhang, B. Lemoine, and M. Mitchell, \"Mitigating UnwantedBiases with Adversarial Learning,\" \n",
        "    AAAI/ACM Conference on Artificial Intelligence, Ethics, and Society, 2018."
      ]
    },
    {
      "cell_type": "code",
      "metadata": {
        "id": "ztoQBvPDdBin",
        "colab_type": "code",
        "colab": {}
      },
      "source": [
        ""
      ],
      "execution_count": 0,
      "outputs": []
    }
  ]
}